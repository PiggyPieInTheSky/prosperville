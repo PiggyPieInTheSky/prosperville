{
 "cells": [
  {
   "cell_type": "markdown",
   "id": "7cb2e9be-f36e-456e-9886-706a6d691e38",
   "metadata": {},
   "source": [
    "Team: MoneyHacker\n",
    "\n",
    "Team member: Fanda Yang, Rohit Gupta, John Perkner, Katie Bartlett, Lily Campbell"
   ]
  },
  {
   "cell_type": "markdown",
   "id": "8b93fbea-4402-4462-b173-c6697526b1ab",
   "metadata": {},
   "source": [
    "# Welcome to Prosperville \n",
    "\n",
    "This is a game about a town where everyone can live long and prosper because they all learn Better Money Habits. This is part of our *__Better Money Habits Life planning and Financial health__* simulation game!\n",
    "\n",
    "This game will take you through 5 life stages (from graduating High school all the way through retirement) and along the way you will make critical life decisions. Ultimately these life decisions will influence how much you enjoy a happy and satisfying life based on the financial impact and influence of these decisions and choices. Now we have all heard that money does NOT equate to happiness. But we also know that having the financial resources to satisfy your basic needs and achieve your long term goals can certainly help you on the way to a happy and rewarding life.\n",
    "\n",
    "To start the game, please __Restart Kernel and Run All Cells__."
   ]
  },
  {
   "cell_type": "code",
   "execution_count": 1,
   "id": "ca4d126a-e0e9-4fae-8b5b-1a2f8e1c433e",
   "metadata": {},
   "outputs": [],
   "source": [
    "## add the project folder to the Python module search list\n",
    "# this way, all child modules can be referenced easily.\n",
    "import sys, os\n",
    "module_path = os.path.abspath(os.path.join('.'))\n",
    "if module_path not in sys.path:\n",
    "        sys.path.append(module_path)"
   ]
  },
  {
   "cell_type": "code",
   "execution_count": 2,
   "id": "e046fcee-dc1b-42c9-af61-9c1238c9c77b",
   "metadata": {},
   "outputs": [
    {
     "data": {
      "text/html": [
       "<link rel=\"stylesheet\" type=\"text/css\" href=\"css/main.css\" /> \n"
      ],
      "text/plain": [
       "<IPython.core.display.HTML object>"
      ]
     },
     "metadata": {},
     "output_type": "display_data"
    }
   ],
   "source": [
    "%%html\n",
    "<link rel=\"stylesheet\" type=\"text/css\" href=\"css/main.css\" /> "
   ]
  },
  {
   "cell_type": "code",
   "execution_count": 3,
   "id": "e9c3ae6a-9e13-439c-ba47-fb005fdeb254",
   "metadata": {},
   "outputs": [],
   "source": [
    "## This cell provides initial set up of the game\n",
    "\n",
    "import backend.prosperville as pv # load game's backend logic\n",
    "\n",
    "# initiate the game's backend\n",
    "pv.crntGame = pv.Prosperville(player_names=['Eric', 'Janet'] # add the names of each player\n",
    "                              , init_cash=0 # initial cash every player has\n",
    "                             )"
   ]
  },
  {
   "cell_type": "code",
   "execution_count": 4,
   "id": "f6caf6b6-b0f2-4dfb-be33-504c98108468",
   "metadata": {},
   "outputs": [
    {
     "data": {
      "application/vnd.jupyter.widget-view+json": {
       "model_id": "6c10a5947b9c42cd98ebdedbb31711ba",
       "version_major": 2,
       "version_minor": 0
      },
      "text/plain": [
       "GridBox(children=(GridBox(children=(HBox(children=(Label(value='Life Stage: 1/5 Post High School', layout=Layo…"
      ]
     },
     "execution_count": 4,
     "metadata": {},
     "output_type": "execute_result"
    }
   ],
   "source": [
    "from ipywidgets import GridBox, Layout\n",
    "# load GUI elements\n",
    "from gui.header import tblHeaderArea\n",
    "from gui.sidebar import tblSideBarArea\n",
    "from gui.playground import tblMainArea\n",
    "from gui.footer import tblFooterArea\n",
    "\n",
    "# build the main GUI\n",
    "MainWidget = GridBox( # set up an HTML table as the main game interface\n",
    "                    children=[tblHeaderArea, tblMainArea, tblSideBarArea, tblFooterArea]\n",
    "                    , layout=Layout(\n",
    "                        width='100%' # 100% of the notebook width\n",
    "                        , border = 'solid 1px'\n",
    "                        # define 3 rows respectively for header, middle and footer areas\n",
    "                        , grid_template_rows='32px auto 34px' \n",
    "                        # definte 2 colums respectively for the main play area and the side bar\n",
    "                        , grid_template_columns='75% 25%'\n",
    "                        # place elements into the grid. \n",
    "                        # The header takes the entire first row; same does the footer for the last row. \n",
    "                        , grid_template_areas='''\n",
    "                        \"tblHeaderArea tblHeaderArea \"\n",
    "                        \"tblMainArea tblSideBarArea \"\n",
    "                        \"tblFooterArea tblFooterArea\"\n",
    "                        '''\n",
    "                        ,background_color='green'\n",
    "                    )\n",
    "                )\n",
    "MainWidget.add_class('title_bg')\n",
    "# show the game interface\n",
    "MainWidget"
   ]
  }
 ],
 "metadata": {
  "kernelspec": {
   "display_name": "Python 3 (ipykernel)",
   "language": "python",
   "name": "python3"
  },
  "language_info": {
   "codemirror_mode": {
    "name": "ipython",
    "version": 3
   },
   "file_extension": ".py",
   "mimetype": "text/x-python",
   "name": "python",
   "nbconvert_exporter": "python",
   "pygments_lexer": "ipython3",
   "version": "3.9.7"
  }
 },
 "nbformat": 4,
 "nbformat_minor": 5
}
